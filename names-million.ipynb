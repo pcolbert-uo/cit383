{
 "cells": [
  {
   "cell_type": "markdown",
   "metadata": {},
   "source": [
    "# Exploring name popularity by gender and year"
   ]
  },
  {
   "cell_type": "markdown",
   "metadata": {},
   "source": [
    "# Load modules, and indicate when ready - Get some data from cs website"
   ]
  },
  {
   "cell_type": "code",
   "execution_count": 26,
   "metadata": {
    "scrolled": true
   },
   "outputs": [
    {
     "data": {
      "text/plain": [
       "'imports imported'"
      ]
     },
     "execution_count": 26,
     "metadata": {},
     "output_type": "execute_result"
    }
   ],
   "source": [
    "# Load modules\n",
    "import numpy as np\n",
    "import pandas as pd\n",
    "import matplotlib.pyplot as plt\n",
    "# Use inline to determine when final import loaded\n",
    "%matplotlib inline\n",
    "'imports imported'"
   ]
  },
  {
   "cell_type": "markdown",
   "metadata": {},
   "source": [
    "# Initialize panda max row display to 200"
   ]
  },
  {
   "cell_type": "code",
   "execution_count": 3,
   "metadata": {},
   "outputs": [],
   "source": [
    "pd.options.display.max_rows = 200"
   ]
  },
  {
   "cell_type": "markdown",
   "metadata": {},
   "source": [
    "# Load data into panda dataframe variable"
   ]
  },
  {
   "cell_type": "code",
   "execution_count": 21,
   "metadata": {},
   "outputs": [
    {
     "data": {
      "text/plain": [
       "(1924665, 5)"
      ]
     },
     "execution_count": 21,
     "metadata": {},
     "output_type": "execute_result"
    }
   ],
   "source": [
    "# Define data path from CIS 199 19W data science course\n",
    "path = 'https://classes.cs.uoregon.edu/19W/cis199ids/data/names_by_year/'\n",
    "# Define filename with names from 1880 - 2017\n",
    "# File contains columns year, name, gender, number, popularity\n",
    "file = 'names_1880_2017.csv'\n",
    "url = path + file\n",
    "# Load file into dataframe as CSV\n",
    "names_df = pd.read_csv(url)\n",
    "# Use shape to return result as a tuple (denoted by surrounding parantheses)\n",
    "# By not using print, this Out[] could be used in future Jupyter statements\n",
    "names_df.shape"
   ]
  },
  {
   "cell_type": "markdown",
   "metadata": {},
   "source": [
    "# Use pandas sample function to display 15 random rows"
   ]
  },
  {
   "cell_type": "code",
   "execution_count": 24,
   "metadata": {
    "scrolled": true
   },
   "outputs": [
    {
     "data": {
      "text/html": [
       "<div>\n",
       "<style scoped>\n",
       "    .dataframe tbody tr th:only-of-type {\n",
       "        vertical-align: middle;\n",
       "    }\n",
       "\n",
       "    .dataframe tbody tr th {\n",
       "        vertical-align: top;\n",
       "    }\n",
       "\n",
       "    .dataframe thead th {\n",
       "        text-align: right;\n",
       "    }\n",
       "</style>\n",
       "<table border=\"1\" class=\"dataframe\">\n",
       "  <thead>\n",
       "    <tr style=\"text-align: right;\">\n",
       "      <th></th>\n",
       "      <th>year</th>\n",
       "      <th>name</th>\n",
       "      <th>gender</th>\n",
       "      <th>number</th>\n",
       "      <th>popularity</th>\n",
       "    </tr>\n",
       "  </thead>\n",
       "  <tbody>\n",
       "    <tr>\n",
       "      <th>1029699</th>\n",
       "      <td>1988</td>\n",
       "      <td>Special</td>\n",
       "      <td>F</td>\n",
       "      <td>13</td>\n",
       "      <td>806</td>\n",
       "    </tr>\n",
       "    <tr>\n",
       "      <th>1672003</th>\n",
       "      <td>2010</td>\n",
       "      <td>Janetta</td>\n",
       "      <td>F</td>\n",
       "      <td>7</td>\n",
       "      <td>950</td>\n",
       "    </tr>\n",
       "    <tr>\n",
       "      <th>69672</th>\n",
       "      <td>1905</td>\n",
       "      <td>Anita</td>\n",
       "      <td>F</td>\n",
       "      <td>209</td>\n",
       "      <td>195</td>\n",
       "    </tr>\n",
       "    <tr>\n",
       "      <th>352278</th>\n",
       "      <td>1938</td>\n",
       "      <td>Correna</td>\n",
       "      <td>F</td>\n",
       "      <td>6</td>\n",
       "      <td>581</td>\n",
       "    </tr>\n",
       "    <tr>\n",
       "      <th>341860</th>\n",
       "      <td>1937</td>\n",
       "      <td>Alleen</td>\n",
       "      <td>F</td>\n",
       "      <td>12</td>\n",
       "      <td>575</td>\n",
       "    </tr>\n",
       "    <tr>\n",
       "      <th>488840</th>\n",
       "      <td>1952</td>\n",
       "      <td>Merilynn</td>\n",
       "      <td>F</td>\n",
       "      <td>5</td>\n",
       "      <td>691</td>\n",
       "    </tr>\n",
       "    <tr>\n",
       "      <th>1178123</th>\n",
       "      <td>1994</td>\n",
       "      <td>Jeanice</td>\n",
       "      <td>F</td>\n",
       "      <td>12</td>\n",
       "      <td>840</td>\n",
       "    </tr>\n",
       "    <tr>\n",
       "      <th>111207</th>\n",
       "      <td>1913</td>\n",
       "      <td>Onofrio</td>\n",
       "      <td>M</td>\n",
       "      <td>6</td>\n",
       "      <td>406</td>\n",
       "    </tr>\n",
       "    <tr>\n",
       "      <th>274200</th>\n",
       "      <td>1929</td>\n",
       "      <td>Venice</td>\n",
       "      <td>M</td>\n",
       "      <td>6</td>\n",
       "      <td>536</td>\n",
       "    </tr>\n",
       "    <tr>\n",
       "      <th>1345237</th>\n",
       "      <td>2000</td>\n",
       "      <td>Khylee</td>\n",
       "      <td>F</td>\n",
       "      <td>7</td>\n",
       "      <td>905</td>\n",
       "    </tr>\n",
       "    <tr>\n",
       "      <th>1736490</th>\n",
       "      <td>2012</td>\n",
       "      <td>Davanee</td>\n",
       "      <td>F</td>\n",
       "      <td>10</td>\n",
       "      <td>936</td>\n",
       "    </tr>\n",
       "    <tr>\n",
       "      <th>625409</th>\n",
       "      <td>1964</td>\n",
       "      <td>Aisha</td>\n",
       "      <td>F</td>\n",
       "      <td>10</td>\n",
       "      <td>778</td>\n",
       "    </tr>\n",
       "    <tr>\n",
       "      <th>70113</th>\n",
       "      <td>1905</td>\n",
       "      <td>Verdie</td>\n",
       "      <td>F</td>\n",
       "      <td>30</td>\n",
       "      <td>332</td>\n",
       "    </tr>\n",
       "    <tr>\n",
       "      <th>1763664</th>\n",
       "      <td>2013</td>\n",
       "      <td>Keri</td>\n",
       "      <td>F</td>\n",
       "      <td>37</td>\n",
       "      <td>910</td>\n",
       "    </tr>\n",
       "    <tr>\n",
       "      <th>849023</th>\n",
       "      <td>1979</td>\n",
       "      <td>Astra</td>\n",
       "      <td>F</td>\n",
       "      <td>17</td>\n",
       "      <td>762</td>\n",
       "    </tr>\n",
       "  </tbody>\n",
       "</table>\n",
       "</div>"
      ],
      "text/plain": [
       "         year      name gender  number  popularity\n",
       "1029699  1988   Special      F      13         806\n",
       "1672003  2010   Janetta      F       7         950\n",
       "69672    1905     Anita      F     209         195\n",
       "352278   1938   Correna      F       6         581\n",
       "341860   1937    Alleen      F      12         575\n",
       "488840   1952  Merilynn      F       5         691\n",
       "1178123  1994   Jeanice      F      12         840\n",
       "111207   1913   Onofrio      M       6         406\n",
       "274200   1929    Venice      M       6         536\n",
       "1345237  2000    Khylee      F       7         905\n",
       "1736490  2012   Davanee      F      10         936\n",
       "625409   1964     Aisha      F      10         778\n",
       "70113    1905    Verdie      F      30         332\n",
       "1763664  2013      Keri      F      37         910\n",
       "849023   1979     Astra      F      17         762"
      ]
     },
     "execution_count": 24,
     "metadata": {},
     "output_type": "execute_result"
    }
   ],
   "source": [
    "# The n=15 is using Python named arguments syntax\n",
    "names_df.sample(n=15)"
   ]
  },
  {
   "cell_type": "markdown",
   "metadata": {},
   "source": [
    "# Define name and gender for filtering"
   ]
  },
  {
   "cell_type": "code",
   "execution_count": 32,
   "metadata": {},
   "outputs": [
    {
     "name": "stdout",
     "output_type": "stream",
     "text": [
      "Name: Cora - Sex: F\n"
     ]
    }
   ],
   "source": [
    "# Setup capitalized variables for search using title() function to capitalize first letter\n",
    "who = 'cora'.title()\n",
    "sex = 'f'.title()\n",
    "# Output conversion results\n",
    "print('Name:',who,'- Sex:',sex)"
   ]
  },
  {
   "cell_type": "markdown",
   "metadata": {},
   "source": [
    "# Filter names dataframe on name and gender"
   ]
  },
  {
   "cell_type": "code",
   "execution_count": 18,
   "metadata": {},
   "outputs": [
    {
     "name": "stdout",
     "output_type": "stream",
     "text": [
      "The name Cora as F appears 131889 in 138 years\n"
     ]
    }
   ],
   "source": [
    "# Perform search\n",
    "found_df = names_df[(names_df['name'] == who) & \\\n",
    "                    (names_df['gender'] == sex)]\n",
    "# Setup output variables\n",
    "name_count = found_df['number'].sum()\n",
    "years = len(found_df)\n",
    "# Output results\n",
    "print('The name ' + who + ' as ' + sex + ' appears ' + str(name_count) + ' in ' + str(years) + ' years')"
   ]
  },
  {
   "cell_type": "markdown",
   "metadata": {},
   "source": [
    "# Display last 20 names from dataframe"
   ]
  },
  {
   "cell_type": "code",
   "execution_count": 16,
   "metadata": {},
   "outputs": [
    {
     "data": {
      "text/html": [
       "<div>\n",
       "<style scoped>\n",
       "    .dataframe tbody tr th:only-of-type {\n",
       "        vertical-align: middle;\n",
       "    }\n",
       "\n",
       "    .dataframe tbody tr th {\n",
       "        vertical-align: top;\n",
       "    }\n",
       "\n",
       "    .dataframe thead th {\n",
       "        text-align: right;\n",
       "    }\n",
       "</style>\n",
       "<table border=\"1\" class=\"dataframe\">\n",
       "  <thead>\n",
       "    <tr style=\"text-align: right;\">\n",
       "      <th></th>\n",
       "      <th>year</th>\n",
       "      <th>name</th>\n",
       "      <th>gender</th>\n",
       "      <th>number</th>\n",
       "      <th>popularity</th>\n",
       "    </tr>\n",
       "  </thead>\n",
       "  <tbody>\n",
       "    <tr>\n",
       "      <th>1276826</th>\n",
       "      <td>1998</td>\n",
       "      <td>Cora</td>\n",
       "      <td>F</td>\n",
       "      <td>468</td>\n",
       "      <td>471</td>\n",
       "    </tr>\n",
       "    <tr>\n",
       "      <th>1304680</th>\n",
       "      <td>1999</td>\n",
       "      <td>Cora</td>\n",
       "      <td>F</td>\n",
       "      <td>529</td>\n",
       "      <td>440</td>\n",
       "    </tr>\n",
       "    <tr>\n",
       "      <th>1333220</th>\n",
       "      <td>2000</td>\n",
       "      <td>Cora</td>\n",
       "      <td>F</td>\n",
       "      <td>564</td>\n",
       "      <td>447</td>\n",
       "    </tr>\n",
       "    <tr>\n",
       "      <th>1362968</th>\n",
       "      <td>2001</td>\n",
       "      <td>Cora</td>\n",
       "      <td>F</td>\n",
       "      <td>603</td>\n",
       "      <td>421</td>\n",
       "    </tr>\n",
       "    <tr>\n",
       "      <th>1393243</th>\n",
       "      <td>2002</td>\n",
       "      <td>Cora</td>\n",
       "      <td>F</td>\n",
       "      <td>606</td>\n",
       "      <td>411</td>\n",
       "    </tr>\n",
       "    <tr>\n",
       "      <th>1423773</th>\n",
       "      <td>2003</td>\n",
       "      <td>Cora</td>\n",
       "      <td>F</td>\n",
       "      <td>695</td>\n",
       "      <td>394</td>\n",
       "    </tr>\n",
       "    <tr>\n",
       "      <th>1454960</th>\n",
       "      <td>2004</td>\n",
       "      <td>Cora</td>\n",
       "      <td>F</td>\n",
       "      <td>698</td>\n",
       "      <td>406</td>\n",
       "    </tr>\n",
       "    <tr>\n",
       "      <th>1487021</th>\n",
       "      <td>2005</td>\n",
       "      <td>Cora</td>\n",
       "      <td>F</td>\n",
       "      <td>672</td>\n",
       "      <td>418</td>\n",
       "    </tr>\n",
       "    <tr>\n",
       "      <th>1519499</th>\n",
       "      <td>2006</td>\n",
       "      <td>Cora</td>\n",
       "      <td>F</td>\n",
       "      <td>844</td>\n",
       "      <td>362</td>\n",
       "    </tr>\n",
       "    <tr>\n",
       "      <th>1553550</th>\n",
       "      <td>2007</td>\n",
       "      <td>Cora</td>\n",
       "      <td>F</td>\n",
       "      <td>917</td>\n",
       "      <td>339</td>\n",
       "    </tr>\n",
       "    <tr>\n",
       "      <th>1588472</th>\n",
       "      <td>2008</td>\n",
       "      <td>Cora</td>\n",
       "      <td>F</td>\n",
       "      <td>1039</td>\n",
       "      <td>316</td>\n",
       "    </tr>\n",
       "    <tr>\n",
       "      <th>1623520</th>\n",
       "      <td>2009</td>\n",
       "      <td>Cora</td>\n",
       "      <td>F</td>\n",
       "      <td>1098</td>\n",
       "      <td>287</td>\n",
       "    </tr>\n",
       "    <tr>\n",
       "      <th>1658194</th>\n",
       "      <td>2010</td>\n",
       "      <td>Cora</td>\n",
       "      <td>F</td>\n",
       "      <td>1205</td>\n",
       "      <td>265</td>\n",
       "    </tr>\n",
       "    <tr>\n",
       "      <th>1692189</th>\n",
       "      <td>2011</td>\n",
       "      <td>Cora</td>\n",
       "      <td>F</td>\n",
       "      <td>1552</td>\n",
       "      <td>197</td>\n",
       "    </tr>\n",
       "    <tr>\n",
       "      <th>1726044</th>\n",
       "      <td>2012</td>\n",
       "      <td>Cora</td>\n",
       "      <td>F</td>\n",
       "      <td>2079</td>\n",
       "      <td>154</td>\n",
       "    </tr>\n",
       "    <tr>\n",
       "      <th>1759747</th>\n",
       "      <td>2013</td>\n",
       "      <td>Cora</td>\n",
       "      <td>F</td>\n",
       "      <td>2584</td>\n",
       "      <td>125</td>\n",
       "    </tr>\n",
       "    <tr>\n",
       "      <th>1792993</th>\n",
       "      <td>2014</td>\n",
       "      <td>Cora</td>\n",
       "      <td>F</td>\n",
       "      <td>2963</td>\n",
       "      <td>102</td>\n",
       "    </tr>\n",
       "    <tr>\n",
       "      <th>1826206</th>\n",
       "      <td>2015</td>\n",
       "      <td>Cora</td>\n",
       "      <td>F</td>\n",
       "      <td>3400</td>\n",
       "      <td>87</td>\n",
       "    </tr>\n",
       "    <tr>\n",
       "      <th>1859302</th>\n",
       "      <td>2016</td>\n",
       "      <td>Cora</td>\n",
       "      <td>F</td>\n",
       "      <td>3367</td>\n",
       "      <td>85</td>\n",
       "    </tr>\n",
       "    <tr>\n",
       "      <th>1892278</th>\n",
       "      <td>2017</td>\n",
       "      <td>Cora</td>\n",
       "      <td>F</td>\n",
       "      <td>3422</td>\n",
       "      <td>82</td>\n",
       "    </tr>\n",
       "  </tbody>\n",
       "</table>\n",
       "</div>"
      ],
      "text/plain": [
       "         year  name gender  number  popularity\n",
       "1276826  1998  Cora      F     468         471\n",
       "1304680  1999  Cora      F     529         440\n",
       "1333220  2000  Cora      F     564         447\n",
       "1362968  2001  Cora      F     603         421\n",
       "1393243  2002  Cora      F     606         411\n",
       "1423773  2003  Cora      F     695         394\n",
       "1454960  2004  Cora      F     698         406\n",
       "1487021  2005  Cora      F     672         418\n",
       "1519499  2006  Cora      F     844         362\n",
       "1553550  2007  Cora      F     917         339\n",
       "1588472  2008  Cora      F    1039         316\n",
       "1623520  2009  Cora      F    1098         287\n",
       "1658194  2010  Cora      F    1205         265\n",
       "1692189  2011  Cora      F    1552         197\n",
       "1726044  2012  Cora      F    2079         154\n",
       "1759747  2013  Cora      F    2584         125\n",
       "1792993  2014  Cora      F    2963         102\n",
       "1826206  2015  Cora      F    3400          87\n",
       "1859302  2016  Cora      F    3367          85\n",
       "1892278  2017  Cora      F    3422          82"
      ]
     },
     "execution_count": 16,
     "metadata": {},
     "output_type": "execute_result"
    }
   ],
   "source": [
    "found_df.tail(20)"
   ]
  },
  {
   "cell_type": "markdown",
   "metadata": {},
   "source": [
    "# Plot the found items"
   ]
  },
  {
   "cell_type": "code",
   "execution_count": 33,
   "metadata": {},
   "outputs": [
    {
     "data": {
      "image/png": "[encoded data removed]",
      "text/plain": [
       "<Figure size 432x288 with 1 Axes>"
      ]
     },
     "metadata": {
      "needs_background": "light"
     },
     "output_type": "display_data"
    }
   ],
   "source": [
    "# Define variables to make plotting generic, allowing changes to above code\n",
    "gender_name = 'Girls'\n",
    "if sex == 'M':\n",
    "    gender_name = 'Boys'\n",
    "my_title = gender_name + ' named ' + who\n",
    "# Plot the data specifying columns for x and y values\n",
    "found_df.plot('year',       # x (horizontal) value\n",
    "              'number',     # y (vertical) value \n",
    "              kind='line',  # line plot\n",
    "              title=my_title,\n",
    "              color='red'); "
   ]
  },
  {
   "cell_type": "code",
   "execution_count": null,
   "metadata": {},
   "outputs": [],
   "source": []
  }
 ],
 "metadata": {
  "kernelspec": {
   "display_name": "Python 3",
   "language": "python",
   "name": "python3"
  },
  "language_info": {
   "codemirror_mode": {
    "name": "ipython",
    "version": 3
   },
   "file_extension": ".py",
   "mimetype": "text/x-python",
   "name": "python",
   "nbconvert_exporter": "python",
   "pygments_lexer": "ipython3",
   "version": "3.7.3"
  }
 },
 "nbformat": 4,
 "nbformat_minor": 2
}
