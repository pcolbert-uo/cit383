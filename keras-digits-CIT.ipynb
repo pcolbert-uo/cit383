{
 "cells": [
  {
   "cell_type": "markdown",
   "metadata": {},
   "source": [
    "# Diagnostics"
   ]
  },
  {
   "cell_type": "code",
   "execution_count": null,
   "metadata": {},
   "outputs": [],
   "source": [
    "# You may not have all of the necessary modules loaded\n",
    "# Use !conda list to see list of loaded modules\n",
    "# Use !conda install <module> to install a module\n",
    "# Use !conda update <module> to update a module\n",
    "# \n",
    "# Note: Using pip install <module> does not work with Jupyter environment,\n",
    "# but works with IDLE"
   ]
  },
  {
   "cell_type": "markdown",
   "metadata": {
    "colab_type": "text",
    "id": "e-yZ4VqbKBYo"
   },
   "source": [
    "# Load handwritten digits 0   1   2   3   4   5   6   7  8   9"
   ]
  },
  {
   "cell_type": "code",
   "execution_count": 1,
   "metadata": {},
   "outputs": [],
   "source": [
    "# Use the Keras - high level neural network APIs - to load MNIST data\n",
    "# https://www.infoworld.com/article/3336192/what-is-keras-the-deep-neural-network-api-explained.html\n",
    "# https://keras.rstudio.com/reference/dataset_mnist.html\n",
    "#\n",
    "# Keras called from Tensor Flow\n",
    "# https://machinelearningmastery.com/introduction-python-deep-learning-library-tensorflow/\n",
    "#\n",
    "# Load the image data into multiple tuples, use the shape property to describe tuples\n",
    "#"
   ]
  },
  {
   "cell_type": "code",
   "execution_count": 2,
   "metadata": {
    "colab": {
     "base_uri": "https://localhost:8080/",
     "height": 34
    },
    "colab_type": "code",
    "id": "lD05AcsoJ5jx",
    "outputId": "902399b8-866f-4410-9ec8-555730eff3f3"
   },
   "outputs": [
    {
     "data": {
      "text/plain": [
       "((60000, 28, 28), (60000,), (10000, 28, 28), (10000,))"
      ]
     },
     "execution_count": 2,
     "metadata": {},
     "output_type": "execute_result"
    }
   ],
   "source": [
    "import tensorflow as tf\n",
    "\n",
    "(x_train, y_train), (x_test, y_test) = tf.keras.datasets.mnist.load_data()\n",
    "\n",
    "x_train.shape, y_train.shape, x_test.shape, y_test.shape"
   ]
  },
  {
   "cell_type": "markdown",
   "metadata": {
    "colab_type": "text",
    "id": "pwKFOjcAKecI"
   },
   "source": [
    "### Display a number any number from 0 - 59_999"
   ]
  },
  {
   "cell_type": "code",
   "execution_count": 3,
   "metadata": {
    "colab": {
     "base_uri": "https://localhost:8080/",
     "height": 282
    },
    "colab_type": "code",
    "id": "oYmuwvNwKfM0",
    "outputId": "54daa750-f1aa-4e36-c36a-657c8a64cba1"
   },
   "outputs": [
    {
     "name": "stdout",
     "output_type": "stream",
     "text": [
      "3 index: 52085\n"
     ]
    },
    {
     "data": {
      "image/png": "[encoded data removed]",
      "text/plain": [
       "<Figure size 432x288 with 1 Axes>"
      ]
     },
     "metadata": {
      "needs_background": "light"
     },
     "output_type": "display_data"
    }
   ],
   "source": [
    "# Use matplotlib to display 28x28 number image\n",
    "# https://matplotlib.org/\n",
    "import matplotlib.pyplot as plt\n",
    "%matplotlib inline \n",
    "image_index = 52_085 # Select any number up to 59,999\n",
    "print(y_train[image_index], 'index:', image_index) # label 8\n",
    "plt.imshow(x_train[image_index], cmap='Greys');"
   ]
  },
  {
   "cell_type": "markdown",
   "metadata": {
    "colab_type": "text",
    "id": "ott3QGCfPIXZ"
   },
   "source": [
    "## Keras needs 4D not 3D data so reshape"
   ]
  },
  {
   "cell_type": "code",
   "execution_count": 4,
   "metadata": {
    "colab": {
     "base_uri": "https://localhost:8080/",
     "height": 67
    },
    "colab_type": "code",
    "id": "Y7UhTM34O105",
    "outputId": "30105209-6e2f-45fd-df7f-1565ebc9cfab"
   },
   "outputs": [
    {
     "name": "stdout",
     "output_type": "stream",
     "text": [
      "x_train shape: (60000, 28, 28, 1)\n",
      "60000 images in x_train\n",
      "10000 images in x_test\n"
     ]
    }
   ],
   "source": [
    "# Reshape array to 4-dimensions so it can \n",
    "# work with the Keras API\n",
    "n_images_train = x_train.shape[0]\n",
    "n_images_test = x_test.shape[0]\n",
    "\n",
    "x_train = x_train.reshape(n_images_train, 28, 28, 1)\n",
    "x_test = x_test.reshape(n_images_test, 28, 28, 1)\n",
    "input_shape = (28, 28, 1)\n",
    "\n",
    "# Make values floats so we get decimals after division\n",
    "# Normalize RGB codes: divide by max RGB value\n",
    "x_train = np.float32(x_train) / 255.0\n",
    "x_test = np.float32(x_test) / 255.0\n",
    "\n",
    "print('x_train shape:', x_train.shape)\n",
    "print(n_images_train, 'images in x_train')\n",
    "print(n_images_test, 'images in x_test')"
   ]
  },
  {
   "cell_type": "markdown",
   "metadata": {
    "colab_type": "text",
    "id": "H4HLWyv4PPpK"
   },
   "source": [
    "## Build multi-layer model\n",
    "\"convolution\" filter, \"pool\", \"convolution\" filter again, \"pool\" again, flatten, add 1024 units fully connected, \"dropout\" - kill random 20%, final array of 10 units, one per digit, \"compile\""
   ]
  },
  {
   "cell_type": "code",
   "execution_count": 5,
   "metadata": {
    "colab": {
     "base_uri": "https://localhost:8080/",
     "height": 50
    },
    "colab_type": "code",
    "id": "hCy_h6CuPWPx",
    "outputId": "8856f806-927c-454f-fb5d-612f2771d49c"
   },
   "outputs": [
    {
     "name": "stdout",
     "output_type": "stream",
     "text": [
      "WARNING:tensorflow:From C:\\Users\\phil_\\Anaconda3\\lib\\site-packages\\tensorflow\\python\\framework\\op_def_library.py:263: colocate_with (from tensorflow.python.framework.ops) is deprecated and will be removed in a future version.\n",
      "Instructions for updating:\n",
      "Colocations handled automatically by placer.\n"
     ]
    },
    {
     "name": "stderr",
     "output_type": "stream",
     "text": [
      "Using TensorFlow backend.\n"
     ]
    },
    {
     "name": "stdout",
     "output_type": "stream",
     "text": [
      "WARNING:tensorflow:From C:\\Users\\phil_\\Anaconda3\\lib\\site-packages\\keras\\backend\\tensorflow_backend.py:3445: calling dropout (from tensorflow.python.ops.nn_ops) with keep_prob is deprecated and will be removed in a future version.\n",
      "Instructions for updating:\n",
      "Please use `rate` instead of `keep_prob`. Rate should be set to `rate = 1 - keep_prob`.\n"
     ]
    },
    {
     "data": {
      "text/plain": [
       "'multi-layer model built'"
      ]
     },
     "execution_count": 5,
     "metadata": {},
     "output_type": "execute_result"
    }
   ],
   "source": [
    "# Keras modules provide model and layers\n",
    "from keras.models import Sequential\n",
    "from keras.layers import Dense, Conv2D, Dropout, Flatten, MaxPooling2D\n",
    "\n",
    "# Create a Sequential Model\n",
    "model = Sequential()\n",
    "#                                           # Starting image\n",
    "# Add layers                                #  28 x 28\n",
    "model.add(Conv2D(32, kernel_size=(7,7),     #  24 x 24 x 32 filtered\n",
    "                 input_shape=input_shape))\n",
    "\n",
    "model.add(MaxPooling2D(pool_size=(2, 2)))   #  12 x 12 x 32 cut in half\n",
    "\n",
    "model.add(Conv2D(64, kernel_size=(5,5),     #   8 x  8 x 64 filtered again \n",
    "                 input_shape=input_shape))\n",
    "\n",
    "model.add(MaxPooling2D(pool_size=(2, 2)))   #   4 x  4 x 64 cut in half\n",
    "\n",
    "# 4 x 4 x 64 == 2**2 x 2**2 x 2**6  = 2 **10 = 1024\n",
    "model.add(Flatten())                        # Flatten to 1024 items\n",
    "\n",
    "model.add(Dense(1024,                       # fully connect each to each\n",
    "                activation=tf.nn.relu))\n",
    "\n",
    "model.add(Dropout(0.2))                   # Reduce overfit: drop 20% of units\n",
    "\n",
    "model.add(Dense(10,                         # 10 answer units 0-9\n",
    "                activation=tf.nn.softmax))\n",
    "\n",
    "model.compile(optimizer='adam', \n",
    "              loss='sparse_categorical_crossentropy', \n",
    "              metrics=['accuracy'])\n",
    "\n",
    "'multi-layer model built'"
   ]
  },
  {
   "cell_type": "markdown",
   "metadata": {
    "colab_type": "text",
    "id": "S0QuBOueQ2eI"
   },
   "source": [
    "## Step 2 - Train the model:\n",
    "\n",
    "Train the model - call model.fit , pass in the training data and the expected output. .\n",
    "\n",
    "After training ends, it reports the final accuracy using the training data.\n",
    "\n",
    "NOTE: With 10 epochs (iterations), will take about 20 minutes or longer depending on\n",
    "your system so you may want to reduce the epochs to <= 5"
   ]
  },
  {
   "cell_type": "code",
   "execution_count": 6,
   "metadata": {
    "colab": {
     "base_uri": "https://localhost:8080/",
     "height": 353
    },
    "colab_type": "code",
    "id": "6NcyNIgaREJh",
    "outputId": "9de97982-d154-449a-cf6a-981c2b0d7ef6"
   },
   "outputs": [
    {
     "name": "stdout",
     "output_type": "stream",
     "text": [
      "WARNING:tensorflow:From C:\\Users\\phil_\\Anaconda3\\lib\\site-packages\\tensorflow\\python\\ops\\math_ops.py:3066: to_int32 (from tensorflow.python.ops.math_ops) is deprecated and will be removed in a future version.\n",
      "Instructions for updating:\n",
      "Use tf.cast instead.\n",
      "Epoch 1/10\n",
      "60000/60000 [==============================] - 59s 981us/step - loss: 0.1468 - acc: 0.9566\n",
      "Epoch 2/10\n",
      "60000/60000 [==============================] - 65s 1ms/step - loss: 0.0701 - acc: 0.9792\n",
      "Epoch 3/10\n",
      "60000/60000 [==============================] - 69s 1ms/step - loss: 0.0568 - acc: 0.9837\n",
      "Epoch 4/10\n",
      "60000/60000 [==============================] - 70s 1ms/step - loss: 0.0538 - acc: 0.9850\n",
      "Epoch 5/10\n",
      "60000/60000 [==============================] - 72s 1ms/step - loss: 0.0441 - acc: 0.9878\n",
      "Epoch 6/10\n",
      "60000/60000 [==============================] - 107s 2ms/step - loss: 0.0442 - acc: 0.9886\n",
      "Epoch 7/10\n",
      "60000/60000 [==============================] - 121s 2ms/step - loss: 0.0421 - acc: 0.9897\n",
      "Epoch 8/10\n",
      "60000/60000 [==============================] - 118s 2ms/step - loss: 0.0447 - acc: 0.9898\n",
      "Epoch 9/10\n",
      "60000/60000 [==============================] - 118s 2ms/step - loss: 0.0451 - acc: 0.9903 2s - loss: 0.0446 - a - ETA: 1s - loss\n",
      "Epoch 10/10\n",
      "60000/60000 [==============================] - 82s 1ms/step - loss: 0.0507 - acc: 0.9898\n"
     ]
    }
   ],
   "source": [
    "# one \"epoch\" = one forward pass and one backward pass \n",
    "# of all the training examples\n",
    "\n",
    "model.fit(x=x_train,y=y_train, epochs=10);"
   ]
  },
  {
   "cell_type": "markdown",
   "metadata": {
    "colab_type": "text",
    "id": "PmAUG8WzR-5C"
   },
   "source": [
    "# Test trained model"
   ]
  },
  {
   "cell_type": "code",
   "execution_count": 7,
   "metadata": {
    "colab": {
     "base_uri": "https://localhost:8080/",
     "height": 34
    },
    "colab_type": "code",
    "id": "vA7Lbg7qBffv",
    "outputId": "d0ecf30b-d99a-4bef-ac4a-ea3969415ce1"
   },
   "outputs": [
    {
     "data": {
      "text/plain": [
       "(10000, 28, 28, 1)"
      ]
     },
     "execution_count": 7,
     "metadata": {},
     "output_type": "execute_result"
    }
   ],
   "source": [
    "x_test.shape"
   ]
  },
  {
   "cell_type": "code",
   "execution_count": 8,
   "metadata": {
    "colab": {
     "base_uri": "https://localhost:8080/",
     "height": 34
    },
    "colab_type": "code",
    "id": "OxojRxrkR8Wj",
    "outputId": "1ba90f3b-dcf0-4013-afe0-91f8f6a378d1"
   },
   "outputs": [
    {
     "name": "stdout",
     "output_type": "stream",
     "text": [
      "Mean squared error (MSE) for test data: [0.08104659806486852, 0.9863]\n"
     ]
    }
   ],
   "source": [
    "# MSE (and regression): \n",
    "# https://www.freecodecamp.org/news/machine-learning-mean-squared-error-regression-line-c7dde9a26b93/\n",
    "test_error_rate = model.evaluate(x_test, y_test, verbose=0)\n",
    "print(f\"Mean squared error (MSE) for test data: {test_error_rate}\")"
   ]
  },
  {
   "cell_type": "markdown",
   "metadata": {
    "colab_type": "text",
    "id": "n7rN7sqxYVWz"
   },
   "source": [
    "## Save model"
   ]
  },
  {
   "cell_type": "code",
   "execution_count": 9,
   "metadata": {
    "colab": {},
    "colab_type": "code",
    "id": "W8QW7740Sbbo"
   },
   "outputs": [],
   "source": [
    "# H5 data format:\n",
    "# https://fileinfo.com/extension/h5\n",
    "model.save(\"mytrained_modelx1.h5\") # .h5 for Hierarchical Data Format\n",
    "                               # used with multidimensional sci. data.                           "
   ]
  },
  {
   "cell_type": "markdown",
   "metadata": {
    "colab_type": "text",
    "id": "k6qIUJ5kYbN-"
   },
   "source": [
    "## Load saved model"
   ]
  },
  {
   "cell_type": "code",
   "execution_count": 10,
   "metadata": {
    "colab": {},
    "colab_type": "code",
    "id": "xYoE3tOsTaf-"
   },
   "outputs": [],
   "source": [
    "import keras.models \n",
    "model_loaded = keras.models.load_model(\"mytrained_modelx1.h5\") "
   ]
  },
  {
   "cell_type": "markdown",
   "metadata": {
    "colab_type": "text",
    "id": "DgO3aVC8YkQc"
   },
   "source": [
    "## Test saved model"
   ]
  },
  {
   "cell_type": "code",
   "execution_count": 11,
   "metadata": {
    "colab": {
     "base_uri": "https://localhost:8080/",
     "height": 298
    },
    "colab_type": "code",
    "id": "BRZA7pUkSsUp",
    "outputId": "d87fd7f9-31c1-4c94-9201-29bb06a0c12c"
   },
   "outputs": [
    {
     "name": "stdout",
     "output_type": "stream",
     "text": [
      "Predicted value 2 [[2.3268217e-34 8.7216491e-25 1.0000000e+00 2.2225246e-25 1.1750027e-37\n",
      "  0.0000000e+00 2.0732862e-35 2.4827052e-20 7.4194400e-32 0.0000000e+00]]\n"
     ]
    },
    {
     "data": {
      "image/png": "[encoded data removed]",
      "text/plain": [
       "<Figure size 432x288 with 1 Axes>"
      ]
     },
     "metadata": {
      "needs_background": "light"
     },
     "output_type": "display_data"
    }
   ],
   "source": [
    "image_index = 5820\n",
    "\n",
    "plt.imshow(x_test[image_index].reshape(28, 28),cmap='Greys')\n",
    "pred = model_loaded.predict(x_test[image_index].reshape(1, 28, 28, 1))\n",
    "print(\"Predicted value\", pred.argmax(), pred)"
   ]
  },
  {
   "cell_type": "code",
   "execution_count": null,
   "metadata": {},
   "outputs": [],
   "source": []
  }
 ],
 "metadata": {
  "accelerator": "GPU",
  "colab": {
   "collapsed_sections": [],
   "name": "Keras4GPU-Digits.ipynb",
   "provenance": [],
   "version": "0.3.2"
  },
  "kernelspec": {
   "display_name": "Python 3",
   "language": "python",
   "name": "python3"
  },
  "language_info": {
   "codemirror_mode": {
    "name": "ipython",
    "version": 3
   },
   "file_extension": ".py",
   "mimetype": "text/x-python",
   "name": "python",
   "nbconvert_exporter": "python",
   "pygments_lexer": "ipython3",
   "version": "3.7.3"
  }
 },
 "nbformat": 4,
 "nbformat_minor": 1
}
